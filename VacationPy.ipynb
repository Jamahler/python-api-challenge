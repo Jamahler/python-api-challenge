{
 "cells": [
  {
   "cell_type": "code",
   "execution_count": 1,
   "metadata": {},
   "outputs": [],
   "source": [
    "# Dependencies and Setup\n",
    "import matplotlib.pyplot as plt\n",
    "import pandas as pd\n",
    "import numpy as np\n",
    "import requests\n",
    "import gmaps\n",
    "import os\n",
    "from pprint import pprint\n",
    "\n",
    "# Import API key\n",
    "from api_keys import g_key"
   ]
  },
  {
   "cell_type": "code",
   "execution_count": 2,
   "metadata": {},
   "outputs": [
    {
     "output_type": "execute_result",
     "data": {
      "text/plain": [
       "             City Country  City Number  Latitude  Longitude  Temperature (F)  \\\n",
       "0       Ilulissat      GL      3423146     69.22     -51.10             5.00   \n",
       "1       Bathsheba      BB      3374083     13.22     -59.52            77.00   \n",
       "2    Punta Arenas      CL      3874787    -53.15     -70.92            46.40   \n",
       "3           Kapaa      US      5848280     22.08    -159.32            81.01   \n",
       "4     Tuktoyaktuk      CA      6170031     69.45    -133.04            14.00   \n",
       "..            ...     ...          ...       ...        ...              ...   \n",
       "453        Kiboga      UG       231550      0.92      31.77            61.79   \n",
       "454        Neiafu      TO      4032420    -18.65    -173.98            82.40   \n",
       "455    Manacapuru      BR      3663529     -3.30     -60.62            80.60   \n",
       "456       Yeppoon      AU      2142316    -23.13     150.73            89.60   \n",
       "457     Kimberley      ZA       990930    -28.73      24.76            69.80   \n",
       "\n",
       "     Humidity (%)  Cloudiness (%)  Wind Speed (mph)  \n",
       "0              45               0             17.22  \n",
       "1              94              20              9.17  \n",
       "2              65              75             29.97  \n",
       "3              69              75             11.41  \n",
       "4              85              90             28.86  \n",
       "..            ...             ...               ...  \n",
       "453            98               0              1.92  \n",
       "454            74              20              9.17  \n",
       "455            88              20              3.69  \n",
       "456            52              40              5.82  \n",
       "457            56               0              6.93  \n",
       "\n",
       "[458 rows x 9 columns]"
      ],
      "text/html": "<div>\n<style scoped>\n    .dataframe tbody tr th:only-of-type {\n        vertical-align: middle;\n    }\n\n    .dataframe tbody tr th {\n        vertical-align: top;\n    }\n\n    .dataframe thead th {\n        text-align: right;\n    }\n</style>\n<table border=\"1\" class=\"dataframe\">\n  <thead>\n    <tr style=\"text-align: right;\">\n      <th></th>\n      <th>City</th>\n      <th>Country</th>\n      <th>City Number</th>\n      <th>Latitude</th>\n      <th>Longitude</th>\n      <th>Temperature (F)</th>\n      <th>Humidity (%)</th>\n      <th>Cloudiness (%)</th>\n      <th>Wind Speed (mph)</th>\n    </tr>\n  </thead>\n  <tbody>\n    <tr>\n      <th>0</th>\n      <td>Ilulissat</td>\n      <td>GL</td>\n      <td>3423146</td>\n      <td>69.22</td>\n      <td>-51.10</td>\n      <td>5.00</td>\n      <td>45</td>\n      <td>0</td>\n      <td>17.22</td>\n    </tr>\n    <tr>\n      <th>1</th>\n      <td>Bathsheba</td>\n      <td>BB</td>\n      <td>3374083</td>\n      <td>13.22</td>\n      <td>-59.52</td>\n      <td>77.00</td>\n      <td>94</td>\n      <td>20</td>\n      <td>9.17</td>\n    </tr>\n    <tr>\n      <th>2</th>\n      <td>Punta Arenas</td>\n      <td>CL</td>\n      <td>3874787</td>\n      <td>-53.15</td>\n      <td>-70.92</td>\n      <td>46.40</td>\n      <td>65</td>\n      <td>75</td>\n      <td>29.97</td>\n    </tr>\n    <tr>\n      <th>3</th>\n      <td>Kapaa</td>\n      <td>US</td>\n      <td>5848280</td>\n      <td>22.08</td>\n      <td>-159.32</td>\n      <td>81.01</td>\n      <td>69</td>\n      <td>75</td>\n      <td>11.41</td>\n    </tr>\n    <tr>\n      <th>4</th>\n      <td>Tuktoyaktuk</td>\n      <td>CA</td>\n      <td>6170031</td>\n      <td>69.45</td>\n      <td>-133.04</td>\n      <td>14.00</td>\n      <td>85</td>\n      <td>90</td>\n      <td>28.86</td>\n    </tr>\n    <tr>\n      <th>...</th>\n      <td>...</td>\n      <td>...</td>\n      <td>...</td>\n      <td>...</td>\n      <td>...</td>\n      <td>...</td>\n      <td>...</td>\n      <td>...</td>\n      <td>...</td>\n    </tr>\n    <tr>\n      <th>453</th>\n      <td>Kiboga</td>\n      <td>UG</td>\n      <td>231550</td>\n      <td>0.92</td>\n      <td>31.77</td>\n      <td>61.79</td>\n      <td>98</td>\n      <td>0</td>\n      <td>1.92</td>\n    </tr>\n    <tr>\n      <th>454</th>\n      <td>Neiafu</td>\n      <td>TO</td>\n      <td>4032420</td>\n      <td>-18.65</td>\n      <td>-173.98</td>\n      <td>82.40</td>\n      <td>74</td>\n      <td>20</td>\n      <td>9.17</td>\n    </tr>\n    <tr>\n      <th>455</th>\n      <td>Manacapuru</td>\n      <td>BR</td>\n      <td>3663529</td>\n      <td>-3.30</td>\n      <td>-60.62</td>\n      <td>80.60</td>\n      <td>88</td>\n      <td>20</td>\n      <td>3.69</td>\n    </tr>\n    <tr>\n      <th>456</th>\n      <td>Yeppoon</td>\n      <td>AU</td>\n      <td>2142316</td>\n      <td>-23.13</td>\n      <td>150.73</td>\n      <td>89.60</td>\n      <td>52</td>\n      <td>40</td>\n      <td>5.82</td>\n    </tr>\n    <tr>\n      <th>457</th>\n      <td>Kimberley</td>\n      <td>ZA</td>\n      <td>990930</td>\n      <td>-28.73</td>\n      <td>24.76</td>\n      <td>69.80</td>\n      <td>56</td>\n      <td>0</td>\n      <td>6.93</td>\n    </tr>\n  </tbody>\n</table>\n<p>458 rows × 9 columns</p>\n</div>"
     },
     "metadata": {},
     "execution_count": 2
    }
   ],
   "source": [
    "vacweather = pd.read_csv(\"Weather.csv\")\n",
    "vacweather"
   ]
  },
  {
   "cell_type": "code",
   "execution_count": 3,
   "metadata": {},
   "outputs": [
    {
     "output_type": "display_data",
     "data": {
      "text/plain": "Figure(layout=FigureLayout(height='420px'))",
      "application/vnd.jupyter.widget-view+json": {
       "version_major": 2,
       "version_minor": 0,
       "model_id": "f592612b5cdc4b6cbaaf9960fb41a311"
      }
     },
     "metadata": {}
    }
   ],
   "source": [
    "gmaps.configure(g_key)\n",
    "\n",
    "locations = vacweather[[\"Latitude\", \"Longitude\"]]\n",
    "humidity = vacweather[\"Humidity (%)\"]\n",
    "\n",
    "\n",
    "fig = gmaps.figure(center=(15, 25), zoom_level=2)\n",
    "heat_layer = gmaps.heatmap_layer(locations, weights = humidity, dissipating=False, max_intensity=np.max(humidity), point_radius=2)\n",
    "fig.add_layer(heat_layer)\n",
    "fig"
   ]
  },
  {
   "cell_type": "code",
   "execution_count": 4,
   "metadata": {},
   "outputs": [
    {
     "output_type": "execute_result",
     "data": {
      "text/plain": [
       "                          City Country  City Number  Latitude  Longitude  \\\n",
       "8                        Kiama      AU      2161515    -34.68     150.87   \n",
       "50                     Cayenne      GF      3382160      4.93     -52.33   \n",
       "74                 Campo Verde      BR      3467673    -20.42     -54.07   \n",
       "77                  Bandiagara      ML      2460489     14.35      -3.61   \n",
       "109                   Cidreira      BR      3466165    -30.18     -50.21   \n",
       "113                  Micheweni      TZ       153955     -4.97      39.83   \n",
       "146                     Ayorou      NE      2447416     14.73       0.92   \n",
       "165                   Flinders      AU      6255012    -34.58     150.86   \n",
       "172  San Bartolomé de Tirajana      ES      2511440     27.92     -15.57   \n",
       "179                       Yuli      NG      2317982      9.70      10.27   \n",
       "183                   Kousséri      CM      2229798     12.08      15.03   \n",
       "197                    Salalah      OM       286621     17.02      54.09   \n",
       "218            Charters Towers      AU      2171722    -20.10     146.27   \n",
       "245                    Teguise      ES      2510573     29.06     -13.56   \n",
       "274                   Karratha      AU      6620339    -20.74     116.85   \n",
       "276                      Moree      AU      2156927    -29.47     149.85   \n",
       "286                    Merauke      ID      2082539     -8.47     140.33   \n",
       "316                      Airai      TL      1651810     -8.93     125.41   \n",
       "332                    Māngrol      IN      1263752     21.12      70.12   \n",
       "350               Port Lincoln      AU      2063036    -34.73     135.87   \n",
       "364              Clarence Town      AU      2171465    -32.58     151.78   \n",
       "368                Saint-Louis      SN      2246451     16.33     -15.00   \n",
       "375                  Ulladulla      AU      2145554    -35.35     150.47   \n",
       "377                  Suchitoto      SV      3583090     13.94     -89.03   \n",
       "385                  Mount Isa      AU      2065594    -20.73     139.50   \n",
       "390                      Wajir      KE       178443      1.75      40.06   \n",
       "416                 Vila Velha      BR      3445026    -20.33     -40.29   \n",
       "421                   Aripuanã      BR      3665202     -9.17     -60.63   \n",
       "431                Santa Maria      BR      3450083    -29.68     -53.81   \n",
       "\n",
       "     Temperature (F)  Humidity (%)  Cloudiness (%)  Wind Speed (mph)  \n",
       "8              76.42            75               0              9.24  \n",
       "50             75.20           100               0              2.24  \n",
       "74             78.80            69               0              2.24  \n",
       "77             71.60            40               0              4.70  \n",
       "109            71.55            85               0             14.79  \n",
       "113            78.10            77               0              5.06  \n",
       "146            78.64            18               0             11.12  \n",
       "165            77.11            66               0              3.00  \n",
       "172            73.18            64               0              8.05  \n",
       "179            76.48            29               0              6.42  \n",
       "183            77.00            23               0             12.75  \n",
       "197            71.60            56               0              1.12  \n",
       "218            93.13            32               0              8.68  \n",
       "245            71.60            56               0              4.70  \n",
       "274            86.56            25               0              8.77  \n",
       "276            91.40            14               0             12.75  \n",
       "286            85.01            54               0              9.57  \n",
       "316            77.94            46               0              3.20  \n",
       "332            76.60            56               0              9.22  \n",
       "350            78.57            36               0              7.00  \n",
       "364            80.01            69               0             10.29  \n",
       "368            75.20            47               0              2.24  \n",
       "375            78.44            50               0              8.05  \n",
       "377            75.20           100               0              8.05  \n",
       "385            96.80            28               0              5.82  \n",
       "390            77.56            78               0             10.16  \n",
       "416            77.00            94               0              8.05  \n",
       "421            76.87            81               0              1.01  \n",
       "431            80.60            54               0              4.70  "
      ],
      "text/html": "<div>\n<style scoped>\n    .dataframe tbody tr th:only-of-type {\n        vertical-align: middle;\n    }\n\n    .dataframe tbody tr th {\n        vertical-align: top;\n    }\n\n    .dataframe thead th {\n        text-align: right;\n    }\n</style>\n<table border=\"1\" class=\"dataframe\">\n  <thead>\n    <tr style=\"text-align: right;\">\n      <th></th>\n      <th>City</th>\n      <th>Country</th>\n      <th>City Number</th>\n      <th>Latitude</th>\n      <th>Longitude</th>\n      <th>Temperature (F)</th>\n      <th>Humidity (%)</th>\n      <th>Cloudiness (%)</th>\n      <th>Wind Speed (mph)</th>\n    </tr>\n  </thead>\n  <tbody>\n    <tr>\n      <th>8</th>\n      <td>Kiama</td>\n      <td>AU</td>\n      <td>2161515</td>\n      <td>-34.68</td>\n      <td>150.87</td>\n      <td>76.42</td>\n      <td>75</td>\n      <td>0</td>\n      <td>9.24</td>\n    </tr>\n    <tr>\n      <th>50</th>\n      <td>Cayenne</td>\n      <td>GF</td>\n      <td>3382160</td>\n      <td>4.93</td>\n      <td>-52.33</td>\n      <td>75.20</td>\n      <td>100</td>\n      <td>0</td>\n      <td>2.24</td>\n    </tr>\n    <tr>\n      <th>74</th>\n      <td>Campo Verde</td>\n      <td>BR</td>\n      <td>3467673</td>\n      <td>-20.42</td>\n      <td>-54.07</td>\n      <td>78.80</td>\n      <td>69</td>\n      <td>0</td>\n      <td>2.24</td>\n    </tr>\n    <tr>\n      <th>77</th>\n      <td>Bandiagara</td>\n      <td>ML</td>\n      <td>2460489</td>\n      <td>14.35</td>\n      <td>-3.61</td>\n      <td>71.60</td>\n      <td>40</td>\n      <td>0</td>\n      <td>4.70</td>\n    </tr>\n    <tr>\n      <th>109</th>\n      <td>Cidreira</td>\n      <td>BR</td>\n      <td>3466165</td>\n      <td>-30.18</td>\n      <td>-50.21</td>\n      <td>71.55</td>\n      <td>85</td>\n      <td>0</td>\n      <td>14.79</td>\n    </tr>\n    <tr>\n      <th>113</th>\n      <td>Micheweni</td>\n      <td>TZ</td>\n      <td>153955</td>\n      <td>-4.97</td>\n      <td>39.83</td>\n      <td>78.10</td>\n      <td>77</td>\n      <td>0</td>\n      <td>5.06</td>\n    </tr>\n    <tr>\n      <th>146</th>\n      <td>Ayorou</td>\n      <td>NE</td>\n      <td>2447416</td>\n      <td>14.73</td>\n      <td>0.92</td>\n      <td>78.64</td>\n      <td>18</td>\n      <td>0</td>\n      <td>11.12</td>\n    </tr>\n    <tr>\n      <th>165</th>\n      <td>Flinders</td>\n      <td>AU</td>\n      <td>6255012</td>\n      <td>-34.58</td>\n      <td>150.86</td>\n      <td>77.11</td>\n      <td>66</td>\n      <td>0</td>\n      <td>3.00</td>\n    </tr>\n    <tr>\n      <th>172</th>\n      <td>San Bartolomé de Tirajana</td>\n      <td>ES</td>\n      <td>2511440</td>\n      <td>27.92</td>\n      <td>-15.57</td>\n      <td>73.18</td>\n      <td>64</td>\n      <td>0</td>\n      <td>8.05</td>\n    </tr>\n    <tr>\n      <th>179</th>\n      <td>Yuli</td>\n      <td>NG</td>\n      <td>2317982</td>\n      <td>9.70</td>\n      <td>10.27</td>\n      <td>76.48</td>\n      <td>29</td>\n      <td>0</td>\n      <td>6.42</td>\n    </tr>\n    <tr>\n      <th>183</th>\n      <td>Kousséri</td>\n      <td>CM</td>\n      <td>2229798</td>\n      <td>12.08</td>\n      <td>15.03</td>\n      <td>77.00</td>\n      <td>23</td>\n      <td>0</td>\n      <td>12.75</td>\n    </tr>\n    <tr>\n      <th>197</th>\n      <td>Salalah</td>\n      <td>OM</td>\n      <td>286621</td>\n      <td>17.02</td>\n      <td>54.09</td>\n      <td>71.60</td>\n      <td>56</td>\n      <td>0</td>\n      <td>1.12</td>\n    </tr>\n    <tr>\n      <th>218</th>\n      <td>Charters Towers</td>\n      <td>AU</td>\n      <td>2171722</td>\n      <td>-20.10</td>\n      <td>146.27</td>\n      <td>93.13</td>\n      <td>32</td>\n      <td>0</td>\n      <td>8.68</td>\n    </tr>\n    <tr>\n      <th>245</th>\n      <td>Teguise</td>\n      <td>ES</td>\n      <td>2510573</td>\n      <td>29.06</td>\n      <td>-13.56</td>\n      <td>71.60</td>\n      <td>56</td>\n      <td>0</td>\n      <td>4.70</td>\n    </tr>\n    <tr>\n      <th>274</th>\n      <td>Karratha</td>\n      <td>AU</td>\n      <td>6620339</td>\n      <td>-20.74</td>\n      <td>116.85</td>\n      <td>86.56</td>\n      <td>25</td>\n      <td>0</td>\n      <td>8.77</td>\n    </tr>\n    <tr>\n      <th>276</th>\n      <td>Moree</td>\n      <td>AU</td>\n      <td>2156927</td>\n      <td>-29.47</td>\n      <td>149.85</td>\n      <td>91.40</td>\n      <td>14</td>\n      <td>0</td>\n      <td>12.75</td>\n    </tr>\n    <tr>\n      <th>286</th>\n      <td>Merauke</td>\n      <td>ID</td>\n      <td>2082539</td>\n      <td>-8.47</td>\n      <td>140.33</td>\n      <td>85.01</td>\n      <td>54</td>\n      <td>0</td>\n      <td>9.57</td>\n    </tr>\n    <tr>\n      <th>316</th>\n      <td>Airai</td>\n      <td>TL</td>\n      <td>1651810</td>\n      <td>-8.93</td>\n      <td>125.41</td>\n      <td>77.94</td>\n      <td>46</td>\n      <td>0</td>\n      <td>3.20</td>\n    </tr>\n    <tr>\n      <th>332</th>\n      <td>Māngrol</td>\n      <td>IN</td>\n      <td>1263752</td>\n      <td>21.12</td>\n      <td>70.12</td>\n      <td>76.60</td>\n      <td>56</td>\n      <td>0</td>\n      <td>9.22</td>\n    </tr>\n    <tr>\n      <th>350</th>\n      <td>Port Lincoln</td>\n      <td>AU</td>\n      <td>2063036</td>\n      <td>-34.73</td>\n      <td>135.87</td>\n      <td>78.57</td>\n      <td>36</td>\n      <td>0</td>\n      <td>7.00</td>\n    </tr>\n    <tr>\n      <th>364</th>\n      <td>Clarence Town</td>\n      <td>AU</td>\n      <td>2171465</td>\n      <td>-32.58</td>\n      <td>151.78</td>\n      <td>80.01</td>\n      <td>69</td>\n      <td>0</td>\n      <td>10.29</td>\n    </tr>\n    <tr>\n      <th>368</th>\n      <td>Saint-Louis</td>\n      <td>SN</td>\n      <td>2246451</td>\n      <td>16.33</td>\n      <td>-15.00</td>\n      <td>75.20</td>\n      <td>47</td>\n      <td>0</td>\n      <td>2.24</td>\n    </tr>\n    <tr>\n      <th>375</th>\n      <td>Ulladulla</td>\n      <td>AU</td>\n      <td>2145554</td>\n      <td>-35.35</td>\n      <td>150.47</td>\n      <td>78.44</td>\n      <td>50</td>\n      <td>0</td>\n      <td>8.05</td>\n    </tr>\n    <tr>\n      <th>377</th>\n      <td>Suchitoto</td>\n      <td>SV</td>\n      <td>3583090</td>\n      <td>13.94</td>\n      <td>-89.03</td>\n      <td>75.20</td>\n      <td>100</td>\n      <td>0</td>\n      <td>8.05</td>\n    </tr>\n    <tr>\n      <th>385</th>\n      <td>Mount Isa</td>\n      <td>AU</td>\n      <td>2065594</td>\n      <td>-20.73</td>\n      <td>139.50</td>\n      <td>96.80</td>\n      <td>28</td>\n      <td>0</td>\n      <td>5.82</td>\n    </tr>\n    <tr>\n      <th>390</th>\n      <td>Wajir</td>\n      <td>KE</td>\n      <td>178443</td>\n      <td>1.75</td>\n      <td>40.06</td>\n      <td>77.56</td>\n      <td>78</td>\n      <td>0</td>\n      <td>10.16</td>\n    </tr>\n    <tr>\n      <th>416</th>\n      <td>Vila Velha</td>\n      <td>BR</td>\n      <td>3445026</td>\n      <td>-20.33</td>\n      <td>-40.29</td>\n      <td>77.00</td>\n      <td>94</td>\n      <td>0</td>\n      <td>8.05</td>\n    </tr>\n    <tr>\n      <th>421</th>\n      <td>Aripuanã</td>\n      <td>BR</td>\n      <td>3665202</td>\n      <td>-9.17</td>\n      <td>-60.63</td>\n      <td>76.87</td>\n      <td>81</td>\n      <td>0</td>\n      <td>1.01</td>\n    </tr>\n    <tr>\n      <th>431</th>\n      <td>Santa Maria</td>\n      <td>BR</td>\n      <td>3450083</td>\n      <td>-29.68</td>\n      <td>-53.81</td>\n      <td>80.60</td>\n      <td>54</td>\n      <td>0</td>\n      <td>4.70</td>\n    </tr>\n  </tbody>\n</table>\n</div>"
     },
     "metadata": {},
     "execution_count": 4
    }
   ],
   "source": [
    "temp_filt = (vacweather['Temperature (F)']>70)\n",
    "windspeed_filt = vacweather['Wind Speed (mph)']<15\n",
    "cloud_filt = vacweather[\"Cloudiness (%)\"] == 0\n",
    "vacweather_filt = vacweather[temp_filt & windspeed_filt & cloud_filt]\n",
    "\n",
    "vacweather_filt"
   ]
  },
  {
   "cell_type": "code",
   "execution_count": 5,
   "metadata": {},
   "outputs": [
    {
     "output_type": "execute_result",
     "data": {
      "text/plain": [
       "                          City Country  City Number  Latitude  Longitude  \\\n",
       "8                        Kiama      AU      2161515    -34.68     150.87   \n",
       "50                     Cayenne      GF      3382160      4.93     -52.33   \n",
       "74                 Campo Verde      BR      3467673    -20.42     -54.07   \n",
       "77                  Bandiagara      ML      2460489     14.35      -3.61   \n",
       "109                   Cidreira      BR      3466165    -30.18     -50.21   \n",
       "113                  Micheweni      TZ       153955     -4.97      39.83   \n",
       "146                     Ayorou      NE      2447416     14.73       0.92   \n",
       "165                   Flinders      AU      6255012    -34.58     150.86   \n",
       "172  San Bartolomé de Tirajana      ES      2511440     27.92     -15.57   \n",
       "179                       Yuli      NG      2317982      9.70      10.27   \n",
       "183                   Kousséri      CM      2229798     12.08      15.03   \n",
       "197                    Salalah      OM       286621     17.02      54.09   \n",
       "218            Charters Towers      AU      2171722    -20.10     146.27   \n",
       "245                    Teguise      ES      2510573     29.06     -13.56   \n",
       "274                   Karratha      AU      6620339    -20.74     116.85   \n",
       "276                      Moree      AU      2156927    -29.47     149.85   \n",
       "286                    Merauke      ID      2082539     -8.47     140.33   \n",
       "316                      Airai      TL      1651810     -8.93     125.41   \n",
       "332                    Māngrol      IN      1263752     21.12      70.12   \n",
       "350               Port Lincoln      AU      2063036    -34.73     135.87   \n",
       "364              Clarence Town      AU      2171465    -32.58     151.78   \n",
       "368                Saint-Louis      SN      2246451     16.33     -15.00   \n",
       "375                  Ulladulla      AU      2145554    -35.35     150.47   \n",
       "377                  Suchitoto      SV      3583090     13.94     -89.03   \n",
       "385                  Mount Isa      AU      2065594    -20.73     139.50   \n",
       "390                      Wajir      KE       178443      1.75      40.06   \n",
       "416                 Vila Velha      BR      3445026    -20.33     -40.29   \n",
       "421                   Aripuanã      BR      3665202     -9.17     -60.63   \n",
       "431                Santa Maria      BR      3450083    -29.68     -53.81   \n",
       "\n",
       "     Temperature (F)  Humidity (%)  Cloudiness (%)  Wind Speed (mph) Hotels  \n",
       "8              76.42            75               0              9.24         \n",
       "50             75.20           100               0              2.24         \n",
       "74             78.80            69               0              2.24         \n",
       "77             71.60            40               0              4.70         \n",
       "109            71.55            85               0             14.79         \n",
       "113            78.10            77               0              5.06         \n",
       "146            78.64            18               0             11.12         \n",
       "165            77.11            66               0              3.00         \n",
       "172            73.18            64               0              8.05         \n",
       "179            76.48            29               0              6.42         \n",
       "183            77.00            23               0             12.75         \n",
       "197            71.60            56               0              1.12         \n",
       "218            93.13            32               0              8.68         \n",
       "245            71.60            56               0              4.70         \n",
       "274            86.56            25               0              8.77         \n",
       "276            91.40            14               0             12.75         \n",
       "286            85.01            54               0              9.57         \n",
       "316            77.94            46               0              3.20         \n",
       "332            76.60            56               0              9.22         \n",
       "350            78.57            36               0              7.00         \n",
       "364            80.01            69               0             10.29         \n",
       "368            75.20            47               0              2.24         \n",
       "375            78.44            50               0              8.05         \n",
       "377            75.20           100               0              8.05         \n",
       "385            96.80            28               0              5.82         \n",
       "390            77.56            78               0             10.16         \n",
       "416            77.00            94               0              8.05         \n",
       "421            76.87            81               0              1.01         \n",
       "431            80.60            54               0              4.70         "
      ],
      "text/html": "<div>\n<style scoped>\n    .dataframe tbody tr th:only-of-type {\n        vertical-align: middle;\n    }\n\n    .dataframe tbody tr th {\n        vertical-align: top;\n    }\n\n    .dataframe thead th {\n        text-align: right;\n    }\n</style>\n<table border=\"1\" class=\"dataframe\">\n  <thead>\n    <tr style=\"text-align: right;\">\n      <th></th>\n      <th>City</th>\n      <th>Country</th>\n      <th>City Number</th>\n      <th>Latitude</th>\n      <th>Longitude</th>\n      <th>Temperature (F)</th>\n      <th>Humidity (%)</th>\n      <th>Cloudiness (%)</th>\n      <th>Wind Speed (mph)</th>\n      <th>Hotels</th>\n    </tr>\n  </thead>\n  <tbody>\n    <tr>\n      <th>8</th>\n      <td>Kiama</td>\n      <td>AU</td>\n      <td>2161515</td>\n      <td>-34.68</td>\n      <td>150.87</td>\n      <td>76.42</td>\n      <td>75</td>\n      <td>0</td>\n      <td>9.24</td>\n      <td></td>\n    </tr>\n    <tr>\n      <th>50</th>\n      <td>Cayenne</td>\n      <td>GF</td>\n      <td>3382160</td>\n      <td>4.93</td>\n      <td>-52.33</td>\n      <td>75.20</td>\n      <td>100</td>\n      <td>0</td>\n      <td>2.24</td>\n      <td></td>\n    </tr>\n    <tr>\n      <th>74</th>\n      <td>Campo Verde</td>\n      <td>BR</td>\n      <td>3467673</td>\n      <td>-20.42</td>\n      <td>-54.07</td>\n      <td>78.80</td>\n      <td>69</td>\n      <td>0</td>\n      <td>2.24</td>\n      <td></td>\n    </tr>\n    <tr>\n      <th>77</th>\n      <td>Bandiagara</td>\n      <td>ML</td>\n      <td>2460489</td>\n      <td>14.35</td>\n      <td>-3.61</td>\n      <td>71.60</td>\n      <td>40</td>\n      <td>0</td>\n      <td>4.70</td>\n      <td></td>\n    </tr>\n    <tr>\n      <th>109</th>\n      <td>Cidreira</td>\n      <td>BR</td>\n      <td>3466165</td>\n      <td>-30.18</td>\n      <td>-50.21</td>\n      <td>71.55</td>\n      <td>85</td>\n      <td>0</td>\n      <td>14.79</td>\n      <td></td>\n    </tr>\n    <tr>\n      <th>113</th>\n      <td>Micheweni</td>\n      <td>TZ</td>\n      <td>153955</td>\n      <td>-4.97</td>\n      <td>39.83</td>\n      <td>78.10</td>\n      <td>77</td>\n      <td>0</td>\n      <td>5.06</td>\n      <td></td>\n    </tr>\n    <tr>\n      <th>146</th>\n      <td>Ayorou</td>\n      <td>NE</td>\n      <td>2447416</td>\n      <td>14.73</td>\n      <td>0.92</td>\n      <td>78.64</td>\n      <td>18</td>\n      <td>0</td>\n      <td>11.12</td>\n      <td></td>\n    </tr>\n    <tr>\n      <th>165</th>\n      <td>Flinders</td>\n      <td>AU</td>\n      <td>6255012</td>\n      <td>-34.58</td>\n      <td>150.86</td>\n      <td>77.11</td>\n      <td>66</td>\n      <td>0</td>\n      <td>3.00</td>\n      <td></td>\n    </tr>\n    <tr>\n      <th>172</th>\n      <td>San Bartolomé de Tirajana</td>\n      <td>ES</td>\n      <td>2511440</td>\n      <td>27.92</td>\n      <td>-15.57</td>\n      <td>73.18</td>\n      <td>64</td>\n      <td>0</td>\n      <td>8.05</td>\n      <td></td>\n    </tr>\n    <tr>\n      <th>179</th>\n      <td>Yuli</td>\n      <td>NG</td>\n      <td>2317982</td>\n      <td>9.70</td>\n      <td>10.27</td>\n      <td>76.48</td>\n      <td>29</td>\n      <td>0</td>\n      <td>6.42</td>\n      <td></td>\n    </tr>\n    <tr>\n      <th>183</th>\n      <td>Kousséri</td>\n      <td>CM</td>\n      <td>2229798</td>\n      <td>12.08</td>\n      <td>15.03</td>\n      <td>77.00</td>\n      <td>23</td>\n      <td>0</td>\n      <td>12.75</td>\n      <td></td>\n    </tr>\n    <tr>\n      <th>197</th>\n      <td>Salalah</td>\n      <td>OM</td>\n      <td>286621</td>\n      <td>17.02</td>\n      <td>54.09</td>\n      <td>71.60</td>\n      <td>56</td>\n      <td>0</td>\n      <td>1.12</td>\n      <td></td>\n    </tr>\n    <tr>\n      <th>218</th>\n      <td>Charters Towers</td>\n      <td>AU</td>\n      <td>2171722</td>\n      <td>-20.10</td>\n      <td>146.27</td>\n      <td>93.13</td>\n      <td>32</td>\n      <td>0</td>\n      <td>8.68</td>\n      <td></td>\n    </tr>\n    <tr>\n      <th>245</th>\n      <td>Teguise</td>\n      <td>ES</td>\n      <td>2510573</td>\n      <td>29.06</td>\n      <td>-13.56</td>\n      <td>71.60</td>\n      <td>56</td>\n      <td>0</td>\n      <td>4.70</td>\n      <td></td>\n    </tr>\n    <tr>\n      <th>274</th>\n      <td>Karratha</td>\n      <td>AU</td>\n      <td>6620339</td>\n      <td>-20.74</td>\n      <td>116.85</td>\n      <td>86.56</td>\n      <td>25</td>\n      <td>0</td>\n      <td>8.77</td>\n      <td></td>\n    </tr>\n    <tr>\n      <th>276</th>\n      <td>Moree</td>\n      <td>AU</td>\n      <td>2156927</td>\n      <td>-29.47</td>\n      <td>149.85</td>\n      <td>91.40</td>\n      <td>14</td>\n      <td>0</td>\n      <td>12.75</td>\n      <td></td>\n    </tr>\n    <tr>\n      <th>286</th>\n      <td>Merauke</td>\n      <td>ID</td>\n      <td>2082539</td>\n      <td>-8.47</td>\n      <td>140.33</td>\n      <td>85.01</td>\n      <td>54</td>\n      <td>0</td>\n      <td>9.57</td>\n      <td></td>\n    </tr>\n    <tr>\n      <th>316</th>\n      <td>Airai</td>\n      <td>TL</td>\n      <td>1651810</td>\n      <td>-8.93</td>\n      <td>125.41</td>\n      <td>77.94</td>\n      <td>46</td>\n      <td>0</td>\n      <td>3.20</td>\n      <td></td>\n    </tr>\n    <tr>\n      <th>332</th>\n      <td>Māngrol</td>\n      <td>IN</td>\n      <td>1263752</td>\n      <td>21.12</td>\n      <td>70.12</td>\n      <td>76.60</td>\n      <td>56</td>\n      <td>0</td>\n      <td>9.22</td>\n      <td></td>\n    </tr>\n    <tr>\n      <th>350</th>\n      <td>Port Lincoln</td>\n      <td>AU</td>\n      <td>2063036</td>\n      <td>-34.73</td>\n      <td>135.87</td>\n      <td>78.57</td>\n      <td>36</td>\n      <td>0</td>\n      <td>7.00</td>\n      <td></td>\n    </tr>\n    <tr>\n      <th>364</th>\n      <td>Clarence Town</td>\n      <td>AU</td>\n      <td>2171465</td>\n      <td>-32.58</td>\n      <td>151.78</td>\n      <td>80.01</td>\n      <td>69</td>\n      <td>0</td>\n      <td>10.29</td>\n      <td></td>\n    </tr>\n    <tr>\n      <th>368</th>\n      <td>Saint-Louis</td>\n      <td>SN</td>\n      <td>2246451</td>\n      <td>16.33</td>\n      <td>-15.00</td>\n      <td>75.20</td>\n      <td>47</td>\n      <td>0</td>\n      <td>2.24</td>\n      <td></td>\n    </tr>\n    <tr>\n      <th>375</th>\n      <td>Ulladulla</td>\n      <td>AU</td>\n      <td>2145554</td>\n      <td>-35.35</td>\n      <td>150.47</td>\n      <td>78.44</td>\n      <td>50</td>\n      <td>0</td>\n      <td>8.05</td>\n      <td></td>\n    </tr>\n    <tr>\n      <th>377</th>\n      <td>Suchitoto</td>\n      <td>SV</td>\n      <td>3583090</td>\n      <td>13.94</td>\n      <td>-89.03</td>\n      <td>75.20</td>\n      <td>100</td>\n      <td>0</td>\n      <td>8.05</td>\n      <td></td>\n    </tr>\n    <tr>\n      <th>385</th>\n      <td>Mount Isa</td>\n      <td>AU</td>\n      <td>2065594</td>\n      <td>-20.73</td>\n      <td>139.50</td>\n      <td>96.80</td>\n      <td>28</td>\n      <td>0</td>\n      <td>5.82</td>\n      <td></td>\n    </tr>\n    <tr>\n      <th>390</th>\n      <td>Wajir</td>\n      <td>KE</td>\n      <td>178443</td>\n      <td>1.75</td>\n      <td>40.06</td>\n      <td>77.56</td>\n      <td>78</td>\n      <td>0</td>\n      <td>10.16</td>\n      <td></td>\n    </tr>\n    <tr>\n      <th>416</th>\n      <td>Vila Velha</td>\n      <td>BR</td>\n      <td>3445026</td>\n      <td>-20.33</td>\n      <td>-40.29</td>\n      <td>77.00</td>\n      <td>94</td>\n      <td>0</td>\n      <td>8.05</td>\n      <td></td>\n    </tr>\n    <tr>\n      <th>421</th>\n      <td>Aripuanã</td>\n      <td>BR</td>\n      <td>3665202</td>\n      <td>-9.17</td>\n      <td>-60.63</td>\n      <td>76.87</td>\n      <td>81</td>\n      <td>0</td>\n      <td>1.01</td>\n      <td></td>\n    </tr>\n    <tr>\n      <th>431</th>\n      <td>Santa Maria</td>\n      <td>BR</td>\n      <td>3450083</td>\n      <td>-29.68</td>\n      <td>-53.81</td>\n      <td>80.60</td>\n      <td>54</td>\n      <td>0</td>\n      <td>4.70</td>\n      <td></td>\n    </tr>\n  </tbody>\n</table>\n</div>"
     },
     "metadata": {},
     "execution_count": 5
    }
   ],
   "source": [
    "hotel_df = vacweather_filt\n",
    "hotel_df['Hotels'] = \"\"\n",
    "hotel_df"
   ]
  },
  {
   "cell_type": "code",
   "execution_count": 13,
   "metadata": {},
   "outputs": [],
   "source": [
    "hotels = []\n",
    "\n",
    "url = \"https://maps.googleapis.com/maps/api/place/nearbysearch/json?\"\n",
    "params = {\"radius\" : 5000,\n",
    "          \"type\" : \"hotel\",\n",
    "          \"keyword\" : \"Hotel\",\n",
    "          \"key\" : g_key}\n",
    "\n",
    "for index, row in hotel_df.iterrows():\n",
    "    lat = row[\"Latitude\"]\n",
    "    lng = row[\"Longitude\"]\n",
    "    city_name = row[\"City\"]\n",
    "    \n",
    "    params[\"location\"] = f\"{lat},{lng}\"\n",
    "\n",
    "    response = requests.get(url, params=params).json()\n",
    "\n",
    "    try:\n",
    "        hotels.append(response['results'][0]['name'])\n",
    "    except:\n",
    "        hotels.append(None)  \n"
   ]
  },
  {
   "cell_type": "code",
   "execution_count": 15,
   "metadata": {},
   "outputs": [
    {
     "output_type": "execute_result",
     "data": {
      "text/plain": [
       "                          City Country  City Number  Latitude  Longitude  \\\n",
       "8                        Kiama      AU      2161515    -34.68     150.87   \n",
       "50                     Cayenne      GF      3382160      4.93     -52.33   \n",
       "77                  Bandiagara      ML      2460489     14.35      -3.61   \n",
       "109                   Cidreira      BR      3466165    -30.18     -50.21   \n",
       "146                     Ayorou      NE      2447416     14.73       0.92   \n",
       "165                   Flinders      AU      6255012    -34.58     150.86   \n",
       "172  San Bartolomé de Tirajana      ES      2511440     27.92     -15.57   \n",
       "183                   Kousséri      CM      2229798     12.08      15.03   \n",
       "197                    Salalah      OM       286621     17.02      54.09   \n",
       "218            Charters Towers      AU      2171722    -20.10     146.27   \n",
       "245                    Teguise      ES      2510573     29.06     -13.56   \n",
       "274                   Karratha      AU      6620339    -20.74     116.85   \n",
       "276                      Moree      AU      2156927    -29.47     149.85   \n",
       "350               Port Lincoln      AU      2063036    -34.73     135.87   \n",
       "364              Clarence Town      AU      2171465    -32.58     151.78   \n",
       "375                  Ulladulla      AU      2145554    -35.35     150.47   \n",
       "377                  Suchitoto      SV      3583090     13.94     -89.03   \n",
       "385                  Mount Isa      AU      2065594    -20.73     139.50   \n",
       "390                      Wajir      KE       178443      1.75      40.06   \n",
       "416                 Vila Velha      BR      3445026    -20.33     -40.29   \n",
       "431                Santa Maria      BR      3450083    -29.68     -53.81   \n",
       "\n",
       "     Temperature (F)  Humidity (%)  Cloudiness (%)  Wind Speed (mph)  \\\n",
       "8              76.42            75               0              9.24   \n",
       "50             75.20           100               0              2.24   \n",
       "77             71.60            40               0              4.70   \n",
       "109            71.55            85               0             14.79   \n",
       "146            78.64            18               0             11.12   \n",
       "165            77.11            66               0              3.00   \n",
       "172            73.18            64               0              8.05   \n",
       "183            77.00            23               0             12.75   \n",
       "197            71.60            56               0              1.12   \n",
       "218            93.13            32               0              8.68   \n",
       "245            71.60            56               0              4.70   \n",
       "274            86.56            25               0              8.77   \n",
       "276            91.40            14               0             12.75   \n",
       "350            78.57            36               0              7.00   \n",
       "364            80.01            69               0             10.29   \n",
       "375            78.44            50               0              8.05   \n",
       "377            75.20           100               0              8.05   \n",
       "385            96.80            28               0              5.82   \n",
       "390            77.56            78               0             10.16   \n",
       "416            77.00            94               0              8.05   \n",
       "431            80.60            54               0              4.70   \n",
       "\n",
       "                                      Hotels  \n",
       "8                The Sebel Kiama Harbourside  \n",
       "50                            Royal Amazonia  \n",
       "77                       Hotel de la Falaise  \n",
       "109                            Hotel Castelo  \n",
       "146                           Hotel Amenokal  \n",
       "165                     Lakeview Hotel Motel  \n",
       "172                            Las Tirajanas  \n",
       "183            Radisson Blu Hotel, N'Djamena  \n",
       "197                       Alpha Suites Hotel  \n",
       "218                         Commercial Hotel  \n",
       "245               HOTEL BOUTIQUE PALACIO ICO  \n",
       "274          Latitude20 The Dunes Apartments  \n",
       "276                    Dragon Phoenix Resort  \n",
       "350                       Port Lincoln Hotel  \n",
       "364                           Erringhi Hotel  \n",
       "375  Bannisters Pavilion Rooftop Bar & Grill  \n",
       "377             Los Almendros de San Lorenzo  \n",
       "385                                Isa Hotel  \n",
       "390                       Wajir Palace Hotel  \n",
       "416               Golden Tulip Porto Vitória  \n",
       "431               Hotel Dom Rafael - Premium  "
      ],
      "text/html": "<div>\n<style scoped>\n    .dataframe tbody tr th:only-of-type {\n        vertical-align: middle;\n    }\n\n    .dataframe tbody tr th {\n        vertical-align: top;\n    }\n\n    .dataframe thead th {\n        text-align: right;\n    }\n</style>\n<table border=\"1\" class=\"dataframe\">\n  <thead>\n    <tr style=\"text-align: right;\">\n      <th></th>\n      <th>City</th>\n      <th>Country</th>\n      <th>City Number</th>\n      <th>Latitude</th>\n      <th>Longitude</th>\n      <th>Temperature (F)</th>\n      <th>Humidity (%)</th>\n      <th>Cloudiness (%)</th>\n      <th>Wind Speed (mph)</th>\n      <th>Hotels</th>\n    </tr>\n  </thead>\n  <tbody>\n    <tr>\n      <th>8</th>\n      <td>Kiama</td>\n      <td>AU</td>\n      <td>2161515</td>\n      <td>-34.68</td>\n      <td>150.87</td>\n      <td>76.42</td>\n      <td>75</td>\n      <td>0</td>\n      <td>9.24</td>\n      <td>The Sebel Kiama Harbourside</td>\n    </tr>\n    <tr>\n      <th>50</th>\n      <td>Cayenne</td>\n      <td>GF</td>\n      <td>3382160</td>\n      <td>4.93</td>\n      <td>-52.33</td>\n      <td>75.20</td>\n      <td>100</td>\n      <td>0</td>\n      <td>2.24</td>\n      <td>Royal Amazonia</td>\n    </tr>\n    <tr>\n      <th>77</th>\n      <td>Bandiagara</td>\n      <td>ML</td>\n      <td>2460489</td>\n      <td>14.35</td>\n      <td>-3.61</td>\n      <td>71.60</td>\n      <td>40</td>\n      <td>0</td>\n      <td>4.70</td>\n      <td>Hotel de la Falaise</td>\n    </tr>\n    <tr>\n      <th>109</th>\n      <td>Cidreira</td>\n      <td>BR</td>\n      <td>3466165</td>\n      <td>-30.18</td>\n      <td>-50.21</td>\n      <td>71.55</td>\n      <td>85</td>\n      <td>0</td>\n      <td>14.79</td>\n      <td>Hotel Castelo</td>\n    </tr>\n    <tr>\n      <th>146</th>\n      <td>Ayorou</td>\n      <td>NE</td>\n      <td>2447416</td>\n      <td>14.73</td>\n      <td>0.92</td>\n      <td>78.64</td>\n      <td>18</td>\n      <td>0</td>\n      <td>11.12</td>\n      <td>Hotel Amenokal</td>\n    </tr>\n    <tr>\n      <th>165</th>\n      <td>Flinders</td>\n      <td>AU</td>\n      <td>6255012</td>\n      <td>-34.58</td>\n      <td>150.86</td>\n      <td>77.11</td>\n      <td>66</td>\n      <td>0</td>\n      <td>3.00</td>\n      <td>Lakeview Hotel Motel</td>\n    </tr>\n    <tr>\n      <th>172</th>\n      <td>San Bartolomé de Tirajana</td>\n      <td>ES</td>\n      <td>2511440</td>\n      <td>27.92</td>\n      <td>-15.57</td>\n      <td>73.18</td>\n      <td>64</td>\n      <td>0</td>\n      <td>8.05</td>\n      <td>Las Tirajanas</td>\n    </tr>\n    <tr>\n      <th>183</th>\n      <td>Kousséri</td>\n      <td>CM</td>\n      <td>2229798</td>\n      <td>12.08</td>\n      <td>15.03</td>\n      <td>77.00</td>\n      <td>23</td>\n      <td>0</td>\n      <td>12.75</td>\n      <td>Radisson Blu Hotel, N'Djamena</td>\n    </tr>\n    <tr>\n      <th>197</th>\n      <td>Salalah</td>\n      <td>OM</td>\n      <td>286621</td>\n      <td>17.02</td>\n      <td>54.09</td>\n      <td>71.60</td>\n      <td>56</td>\n      <td>0</td>\n      <td>1.12</td>\n      <td>Alpha Suites Hotel</td>\n    </tr>\n    <tr>\n      <th>218</th>\n      <td>Charters Towers</td>\n      <td>AU</td>\n      <td>2171722</td>\n      <td>-20.10</td>\n      <td>146.27</td>\n      <td>93.13</td>\n      <td>32</td>\n      <td>0</td>\n      <td>8.68</td>\n      <td>Commercial Hotel</td>\n    </tr>\n    <tr>\n      <th>245</th>\n      <td>Teguise</td>\n      <td>ES</td>\n      <td>2510573</td>\n      <td>29.06</td>\n      <td>-13.56</td>\n      <td>71.60</td>\n      <td>56</td>\n      <td>0</td>\n      <td>4.70</td>\n      <td>HOTEL BOUTIQUE PALACIO ICO</td>\n    </tr>\n    <tr>\n      <th>274</th>\n      <td>Karratha</td>\n      <td>AU</td>\n      <td>6620339</td>\n      <td>-20.74</td>\n      <td>116.85</td>\n      <td>86.56</td>\n      <td>25</td>\n      <td>0</td>\n      <td>8.77</td>\n      <td>Latitude20 The Dunes Apartments</td>\n    </tr>\n    <tr>\n      <th>276</th>\n      <td>Moree</td>\n      <td>AU</td>\n      <td>2156927</td>\n      <td>-29.47</td>\n      <td>149.85</td>\n      <td>91.40</td>\n      <td>14</td>\n      <td>0</td>\n      <td>12.75</td>\n      <td>Dragon Phoenix Resort</td>\n    </tr>\n    <tr>\n      <th>350</th>\n      <td>Port Lincoln</td>\n      <td>AU</td>\n      <td>2063036</td>\n      <td>-34.73</td>\n      <td>135.87</td>\n      <td>78.57</td>\n      <td>36</td>\n      <td>0</td>\n      <td>7.00</td>\n      <td>Port Lincoln Hotel</td>\n    </tr>\n    <tr>\n      <th>364</th>\n      <td>Clarence Town</td>\n      <td>AU</td>\n      <td>2171465</td>\n      <td>-32.58</td>\n      <td>151.78</td>\n      <td>80.01</td>\n      <td>69</td>\n      <td>0</td>\n      <td>10.29</td>\n      <td>Erringhi Hotel</td>\n    </tr>\n    <tr>\n      <th>375</th>\n      <td>Ulladulla</td>\n      <td>AU</td>\n      <td>2145554</td>\n      <td>-35.35</td>\n      <td>150.47</td>\n      <td>78.44</td>\n      <td>50</td>\n      <td>0</td>\n      <td>8.05</td>\n      <td>Bannisters Pavilion Rooftop Bar &amp; Grill</td>\n    </tr>\n    <tr>\n      <th>377</th>\n      <td>Suchitoto</td>\n      <td>SV</td>\n      <td>3583090</td>\n      <td>13.94</td>\n      <td>-89.03</td>\n      <td>75.20</td>\n      <td>100</td>\n      <td>0</td>\n      <td>8.05</td>\n      <td>Los Almendros de San Lorenzo</td>\n    </tr>\n    <tr>\n      <th>385</th>\n      <td>Mount Isa</td>\n      <td>AU</td>\n      <td>2065594</td>\n      <td>-20.73</td>\n      <td>139.50</td>\n      <td>96.80</td>\n      <td>28</td>\n      <td>0</td>\n      <td>5.82</td>\n      <td>Isa Hotel</td>\n    </tr>\n    <tr>\n      <th>390</th>\n      <td>Wajir</td>\n      <td>KE</td>\n      <td>178443</td>\n      <td>1.75</td>\n      <td>40.06</td>\n      <td>77.56</td>\n      <td>78</td>\n      <td>0</td>\n      <td>10.16</td>\n      <td>Wajir Palace Hotel</td>\n    </tr>\n    <tr>\n      <th>416</th>\n      <td>Vila Velha</td>\n      <td>BR</td>\n      <td>3445026</td>\n      <td>-20.33</td>\n      <td>-40.29</td>\n      <td>77.00</td>\n      <td>94</td>\n      <td>0</td>\n      <td>8.05</td>\n      <td>Golden Tulip Porto Vitória</td>\n    </tr>\n    <tr>\n      <th>431</th>\n      <td>Santa Maria</td>\n      <td>BR</td>\n      <td>3450083</td>\n      <td>-29.68</td>\n      <td>-53.81</td>\n      <td>80.60</td>\n      <td>54</td>\n      <td>0</td>\n      <td>4.70</td>\n      <td>Hotel Dom Rafael - Premium</td>\n    </tr>\n  </tbody>\n</table>\n</div>"
     },
     "metadata": {},
     "execution_count": 15
    }
   ],
   "source": [
    "hotel_df['Hotels'] = hotels\n",
    "hotel_df = hotel_df.dropna(how='any')\n",
    "hotel_df"
   ]
  },
  {
   "cell_type": "code",
   "execution_count": 16,
   "metadata": {},
   "outputs": [],
   "source": [
    "info_box_template = \"\"\"\n",
    "<dl>\n",
    "<dt>Name</dt><dd>{Hotels}</dd>\n",
    "<dt>City</dt><dd>{City}</dd>\n",
    "<dt>Country</dt><dd>{Country}</dd>\n",
    "</dl>\n",
    "\"\"\"\n",
    "\n",
    "hotel_info = [info_box_template.format(**row) for index, row in hotel_df.iterrows()]\n",
    "locations = hotel_df[[\"Latitude\", \"Longitude\"]]"
   ]
  },
  {
   "cell_type": "code",
   "execution_count": 17,
   "metadata": {},
   "outputs": [
    {
     "output_type": "display_data",
     "data": {
      "text/plain": "Figure(layout=FigureLayout(height='420px'))",
      "application/vnd.jupyter.widget-view+json": {
       "version_major": 2,
       "version_minor": 0,
       "model_id": "f592612b5cdc4b6cbaaf9960fb41a311"
      }
     },
     "metadata": {}
    }
   ],
   "source": [
    "markers = gmaps.marker_layer(locations, info_box_content = hotel_info)\n",
    "fig.add_layer(markers)\n",
    "fig"
   ]
  }
 ],
 "metadata": {
  "kernelspec": {
   "display_name": "Python 3",
   "language": "python",
   "name": "python3"
  },
  "language_info": {
   "codemirror_mode": {
    "name": "ipython",
    "version": 3
   },
   "file_extension": ".py",
   "mimetype": "text/x-python",
   "name": "python",
   "nbconvert_exporter": "python",
   "pygments_lexer": "ipython3",
   "version": "3.7.6-final"
  }
 },
 "nbformat": 4,
 "nbformat_minor": 4
}